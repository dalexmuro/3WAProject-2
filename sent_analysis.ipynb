{
 "cells": [
  {
   "cell_type": "markdown",
   "metadata": {},
   "source": [
    "Modèle d'analyse de sentiments"
   ]
  },
  {
   "cell_type": "code",
   "execution_count": 143,
   "metadata": {},
   "outputs": [],
   "source": [
    "import pandas as pd\n",
    "import seaborn as sns\n",
    "import pickle\n",
    "\n",
    "from time import time\n",
    "from tqdm import tqdm\n",
    "from pprint import pprint\n",
    "from os.path import exists\n",
    "from cleantext import cleantext\n",
    "from sklearn.pipeline import Pipeline\n",
    "from sklearn.naive_bayes import MultinomialNB\n",
    "from sklearn.model_selection import GridSearchCV\n",
    "from sklearn.model_selection import train_test_split\n",
    "from sklearn.feature_extraction.text import TfidfVectorizer\n",
    "from sklearn.metrics import make_scorer, \\\n",
    "                            accuracy_score, \\\n",
    "                            classification_report, \\\n",
    "                            precision_score, \\\n",
    "                            recall_score"
   ]
  },
  {
   "cell_type": "code",
   "execution_count": 144,
   "metadata": {},
   "outputs": [],
   "source": [
    "# Paths \n",
    "\n",
    "# Dataset from Kaggle with 50000 classified reviews\n",
    "csv_path = 'data/dataset/imdb_dataset.csv'\n",
    "\n",
    "# Path to save the dataset with the reviews already cleaned\n",
    "plk_path = 'data/cleaned_reviews_sentiment.plk'\n",
    "\n",
    "# Paths for the pipeline with the tokenizer and the classifier model\n",
    "model_path = 'data/model_sentiment.sav'"
   ]
  },
  {
   "cell_type": "code",
   "execution_count": 145,
   "metadata": {},
   "outputs": [
    {
     "name": "stdout",
     "output_type": "stream",
     "text": [
      "50000\n"
     ]
    },
    {
     "data": {
      "text/html": [
       "<div>\n",
       "<style scoped>\n",
       "    .dataframe tbody tr th:only-of-type {\n",
       "        vertical-align: middle;\n",
       "    }\n",
       "\n",
       "    .dataframe tbody tr th {\n",
       "        vertical-align: top;\n",
       "    }\n",
       "\n",
       "    .dataframe thead th {\n",
       "        text-align: right;\n",
       "    }\n",
       "</style>\n",
       "<table border=\"1\" class=\"dataframe\">\n",
       "  <thead>\n",
       "    <tr style=\"text-align: right;\">\n",
       "      <th></th>\n",
       "      <th>review</th>\n",
       "      <th>sentiment</th>\n",
       "    </tr>\n",
       "  </thead>\n",
       "  <tbody>\n",
       "    <tr>\n",
       "      <th>0</th>\n",
       "      <td>One of the other reviewers has mentioned that ...</td>\n",
       "      <td>positive</td>\n",
       "    </tr>\n",
       "    <tr>\n",
       "      <th>1</th>\n",
       "      <td>A wonderful little production. &lt;br /&gt;&lt;br /&gt;The...</td>\n",
       "      <td>positive</td>\n",
       "    </tr>\n",
       "    <tr>\n",
       "      <th>2</th>\n",
       "      <td>I thought this was a wonderful way to spend ti...</td>\n",
       "      <td>positive</td>\n",
       "    </tr>\n",
       "    <tr>\n",
       "      <th>3</th>\n",
       "      <td>Basically there's a family where a little boy ...</td>\n",
       "      <td>negative</td>\n",
       "    </tr>\n",
       "    <tr>\n",
       "      <th>4</th>\n",
       "      <td>Petter Mattei's \"Love in the Time of Money\" is...</td>\n",
       "      <td>positive</td>\n",
       "    </tr>\n",
       "  </tbody>\n",
       "</table>\n",
       "</div>"
      ],
      "text/plain": [
       "                                              review sentiment\n",
       "0  One of the other reviewers has mentioned that ...  positive\n",
       "1  A wonderful little production. <br /><br />The...  positive\n",
       "2  I thought this was a wonderful way to spend ti...  positive\n",
       "3  Basically there's a family where a little boy ...  negative\n",
       "4  Petter Mattei's \"Love in the Time of Money\" is...  positive"
      ]
     },
     "execution_count": 145,
     "metadata": {},
     "output_type": "execute_result"
    }
   ],
   "source": [
    "reviews_df = pd.read_csv(csv_path)\n",
    "print(len(reviews_df))\n",
    "reviews_df.head()"
   ]
  },
  {
   "cell_type": "code",
   "execution_count": 146,
   "metadata": {},
   "outputs": [
    {
     "data": {
      "text/html": [
       "<div>\n",
       "<style scoped>\n",
       "    .dataframe tbody tr th:only-of-type {\n",
       "        vertical-align: middle;\n",
       "    }\n",
       "\n",
       "    .dataframe tbody tr th {\n",
       "        vertical-align: top;\n",
       "    }\n",
       "\n",
       "    .dataframe thead th {\n",
       "        text-align: right;\n",
       "    }\n",
       "</style>\n",
       "<table border=\"1\" class=\"dataframe\">\n",
       "  <thead>\n",
       "    <tr style=\"text-align: right;\">\n",
       "      <th></th>\n",
       "      <th>review</th>\n",
       "      <th>sentiment</th>\n",
       "    </tr>\n",
       "  </thead>\n",
       "  <tbody>\n",
       "    <tr>\n",
       "      <th>0</th>\n",
       "      <td>One of the other reviewers has mentioned that ...</td>\n",
       "      <td>1</td>\n",
       "    </tr>\n",
       "    <tr>\n",
       "      <th>1</th>\n",
       "      <td>A wonderful little production. &lt;br /&gt;&lt;br /&gt;The...</td>\n",
       "      <td>1</td>\n",
       "    </tr>\n",
       "    <tr>\n",
       "      <th>2</th>\n",
       "      <td>I thought this was a wonderful way to spend ti...</td>\n",
       "      <td>1</td>\n",
       "    </tr>\n",
       "    <tr>\n",
       "      <th>3</th>\n",
       "      <td>Basically there's a family where a little boy ...</td>\n",
       "      <td>0</td>\n",
       "    </tr>\n",
       "    <tr>\n",
       "      <th>4</th>\n",
       "      <td>Petter Mattei's \"Love in the Time of Money\" is...</td>\n",
       "      <td>1</td>\n",
       "    </tr>\n",
       "  </tbody>\n",
       "</table>\n",
       "</div>"
      ],
      "text/plain": [
       "                                              review  sentiment\n",
       "0  One of the other reviewers has mentioned that ...          1\n",
       "1  A wonderful little production. <br /><br />The...          1\n",
       "2  I thought this was a wonderful way to spend ti...          1\n",
       "3  Basically there's a family where a little boy ...          0\n",
       "4  Petter Mattei's \"Love in the Time of Money\" is...          1"
      ]
     },
     "execution_count": 146,
     "metadata": {},
     "output_type": "execute_result"
    }
   ],
   "source": [
    "# Replace positive and negative values by 1 and 0 respectively\n",
    "reviews_df['sentiment'] = [1 if sentiment == 'positive' else 0 for sentiment in reviews_df['sentiment']]\n",
    "reviews_df.head()"
   ]
  },
  {
   "cell_type": "code",
   "execution_count": 147,
   "metadata": {},
   "outputs": [
    {
     "name": "stdout",
     "output_type": "stream",
     "text": [
      "sentiment\n",
      "0    25000\n",
      "1    25000\n",
      "Name: sentiment, dtype: int64\n",
      "Valeurs NaN : 0\n",
      "Valeurs nulls : 0\n",
      "Valeurs différents du 0 et 1 : 0\n"
     ]
    }
   ],
   "source": [
    "print(reviews_df.groupby(['sentiment'])['sentiment'].count())\n",
    "print(f'Valeurs NaN : {reviews_df.isna().sum().sum()}')\n",
    "print(f'Valeurs nulls : {reviews_df.isnull().sum().sum()}')\n",
    "print(f'Valeurs différents du 0 et 1 : {len(reviews_df[~reviews_df.sentiment.isin([0, 1])])}')"
   ]
  },
  {
   "cell_type": "code",
   "execution_count": 148,
   "metadata": {},
   "outputs": [
    {
     "data": {
      "text/plain": [
       "<AxesSubplot:ylabel='sentiment'>"
      ]
     },
     "execution_count": 148,
     "metadata": {},
     "output_type": "execute_result"
    },
    {
     "data": {
      "image/png": "[encoded data removed]",
      "text/plain": [
       "<Figure size 640x480 with 1 Axes>"
      ]
     },
     "metadata": {},
     "output_type": "display_data"
    }
   ],
   "source": [
    "reviews_df['sentiment'].value_counts().plot(kind='pie')"
   ]
  },
  {
   "cell_type": "code",
   "execution_count": 149,
   "metadata": {},
   "outputs": [
    {
     "name": "stdout",
     "output_type": "stream",
     "text": [
      "Cleaning data from reviews dataset\n",
      "49574 cleaned reviews :\n",
      "sentiment\n",
      "0    24694\n",
      "1    24880\n",
      "Name: sentiment, dtype: int64\n",
      "Valeurs NaN : 0\n",
      "Valeurs nulls : 0\n",
      "Valeurs différents du 0 et 1 : 0\n"
     ]
    }
   ],
   "source": [
    "print('Cleaning data from reviews dataset')\n",
    "reviews_df['cleaned_reviews'] = reviews_df['review'].apply(lambda x : cleantext(x))\n",
    "reviews_df.drop_duplicates(subset='cleaned_reviews', inplace=True)\n",
    "print(f'{len(reviews_df)} cleaned reviews :')\n",
    "print(reviews_df.groupby(['sentiment'])['sentiment'].count())\n",
    "print(f'Valeurs NaN : {reviews_df.isna().sum().sum()}')\n",
    "print(f'Valeurs nulls : {reviews_df.isnull().sum().sum()}')\n",
    "print(f'Valeurs différents du 0 et 1 : {len(reviews_df[~reviews_df.sentiment.isin([0, 1])])}')"
   ]
  },
  {
   "cell_type": "code",
   "execution_count": 150,
   "metadata": {},
   "outputs": [
    {
     "data": {
      "text/plain": [
       "<AxesSubplot:ylabel='sentiment'>"
      ]
     },
     "execution_count": 150,
     "metadata": {},
     "output_type": "execute_result"
    },
    {
     "data": {
      "image/png": "[encoded data removed]",
      "text/plain": [
       "<Figure size 640x480 with 1 Axes>"
      ]
     },
     "metadata": {},
     "output_type": "display_data"
    }
   ],
   "source": [
    "reviews_df['sentiment'].value_counts().plot(kind='pie')"
   ]
  },
  {
   "cell_type": "code",
   "execution_count": 151,
   "metadata": {},
   "outputs": [
    {
     "name": "stdout",
     "output_type": "stream",
     "text": [
      "Rewiews saved successfully in data/cleaned_reviews_sentiment.plk\n"
     ]
    }
   ],
   "source": [
    "reviews_df.to_pickle(plk_path)\n",
    "print('Rewiews saved successfully in %s' % plk_path)"
   ]
  },
  {
   "cell_type": "code",
   "execution_count": 152,
   "metadata": {},
   "outputs": [
    {
     "name": "stdout",
     "output_type": "stream",
     "text": [
      "There are 70962 different words along all the reviews.\n"
     ]
    }
   ],
   "source": [
    "# Create a set of unique word along all the 50k reviews\n",
    "unique_words = set([])\n",
    "\n",
    "for review in reviews_df['cleaned_reviews']:\n",
    "    split = review.split()\n",
    "    for word in split:\n",
    "        unique_words.add(word)\n",
    "\n",
    "print('There are %s different words along all the reviews.' %len(unique_words))"
   ]
  },
  {
   "cell_type": "code",
   "execution_count": 153,
   "metadata": {},
   "outputs": [],
   "source": [
    "# Count frequency of words along all the reviews and\n",
    "# create a dictionary with all the words and its frequency\n",
    "freq_words = dict()\n",
    "for review in reviews_df['cleaned_reviews']:\n",
    "    words = review.split()\n",
    "    for word in words:\n",
    "        if word in freq_words:\n",
    "            freq_words[word] += 1\n",
    "        else:\n",
    "            freq_words[word] = 1"
   ]
  },
  {
   "cell_type": "code",
   "execution_count": 154,
   "metadata": {},
   "outputs": [],
   "source": [
    "# A word will be considered as relevant only if it appears at least 50 times along all the 50K reviews\n",
    "frequent_words = {word:freq for word,freq in freq_words.items() if freq >= 50}\n",
    "\n",
    "# features will be the quantity of words which will be considered\n",
    "features = len(frequent_words)"
   ]
  },
  {
   "cell_type": "code",
   "execution_count": 155,
   "metadata": {},
   "outputs": [],
   "source": [
    "X_train, X_test, y_train, y_test = train_test_split(reviews_df['cleaned_reviews'].values, reviews_df['sentiment'].values, test_size=0.20, random_state=0)"
   ]
  },
  {
   "cell_type": "code",
   "execution_count": 158,
   "metadata": {},
   "outputs": [],
   "source": [
    "X_train = X_train.astype(str)\n",
    "y_train = y_train.astype(str)\n",
    "X_test = X_test.astype(str)\n",
    "y_test = y_test.astype(str)"
   ]
  },
  {
   "cell_type": "code",
   "execution_count": 159,
   "metadata": {},
   "outputs": [
    {
     "name": "stdout",
     "output_type": "stream",
     "text": [
      "(39659,)\n",
      "(39659,)\n",
      "(9915,)\n",
      "(9915,)\n"
     ]
    }
   ],
   "source": [
    "print(X_train.shape)\n",
    "print(y_train.shape)\n",
    "print(X_test.shape)\n",
    "print(y_test.shape)"
   ]
  },
  {
   "cell_type": "markdown",
   "metadata": {},
   "source": [
    "# TF-IDF et MultinomialNB"
   ]
  },
  {
   "cell_type": "markdown",
   "metadata": {},
   "source": [
    "TF-IDF is an abbreviation for Term Frequency Inverse Document Frequency. This is very common algorithm to transform text into a meaningful representation of numbers which is used to fit machine algorithm for prediction.\n",
    "\n",
    "[Differences](https://www.capitalone.com/tech/machine-learning/understanding-tf-idf/)\n",
    "\n",
    "The multinomial Naive Bayes classifier is suitable for classification with discrete features (e.g., word counts for text classification). The multinomial distribution normally requires integer feature counts. However, in practice, fractional counts such as tf-idf may also work."
   ]
  },
  {
   "cell_type": "markdown",
   "metadata": {},
   "source": [
    "Grid search et fine Tunning"
   ]
  },
  {
   "cell_type": "code",
   "execution_count": 76,
   "metadata": {},
   "outputs": [
    {
     "name": "stdout",
     "output_type": "stream",
     "text": [
      "Performing grid search...\n",
      "Pipeline:  ['tfidf', 'clf']\n",
      "Parameters: \n",
      "{'clf__alpha': [0, 1.0],\n",
      " 'clf__fit_prior': [True, False],\n",
      " 'tfidf__max_features': [None, 63865, 53221, 35481],\n",
      " 'tfidf__min_df': [1, 2, 3],\n",
      " 'tfidf__ngram_range': [(1, 1), (1, 2), (2, 2)],\n",
      " 'tfidf__norm': ['l1', 'l2'],\n",
      " 'tfidf__use_idf': [True, False]}\n",
      "Fitting 5 folds for each of 576 candidates, totalling 2880 fits\n",
      "Done in 12135.589s\n",
      "\n",
      "Best score: 0.885\n",
      "Best parameters set: \n",
      "\tclf__alpha: 1.0\n",
      "\tclf__fit_prior: False\n",
      "\ttfidf__max_features: None\n",
      "\ttfidf__min_df: 2\n",
      "\ttfidf__ngram_range: (1, 2)\n",
      "\ttfidf__norm: 'l2'\n",
      "\ttfidf__use_idf: True\n"
     ]
    }
   ],
   "source": [
    "if exists(model_path):\n",
    "    model = pickle.load(open(model_path, 'rb'))\n",
    "    print(f'Model {model_path} opened successfully')\n",
    "\n",
    "else:\n",
    "    # Define a pipeline combining a text feature extractor with a MultinomialNB Classifier\n",
    "    pipeline = Pipeline(\n",
    "        [\n",
    "            ('tfidf', TfidfVectorizer()),\n",
    "            ('clf', MultinomialNB()),\n",
    "        ]\n",
    "    )\n",
    "\n",
    "    # Parameters to use for grid search\n",
    "    parameters = {\n",
    "        'tfidf__norm': ['l1', 'l2'],\n",
    "        'tfidf__min_df' : [1, 2, 3], # Ignore terms that have a document frequency strictly lower than the given threshold \n",
    "        'tfidf__use_idf': [True, False],\n",
    "        'tfidf__max_features': [None, int(len(unique_words)*0.9), int(len(unique_words)*0.75), int(len(unique_words)*0.5)], # Size of the vocabulary\n",
    "        'tfidf__ngram_range': [(1, 1), (1, 2), (2, 2)],\n",
    "        'clf__alpha': [0, 1.0],\n",
    "        'clf__fit_prior': [True, False],\n",
    "    }\n",
    "\n",
    "    # Find the best parameters for both the feature extraction and the classifier\n",
    "    grid_search = GridSearchCV(pipeline, parameters, n_jobs=-1, verbose=1, )\n",
    "\n",
    "    print('Performing grid search...')\n",
    "    print('Pipeline: ', [name for name, _ in pipeline.steps])\n",
    "    print('Parameters: ')\n",
    "    pprint(parameters)\n",
    "    t0 = time()\n",
    "    model = grid_search.fit(list(X_train), list(y_train))\n",
    "    print('Done in %0.3fs' % (time() - t0))\n",
    "    print()\n",
    "\n",
    "    print('Best score: %0.3f' % grid_search.best_score_)\n",
    "    print('Best parameters set: ')\n",
    "    best_parameters = grid_search.best_estimator_.get_params()\n",
    "    for param_name in sorted(parameters.keys()):\n",
    "        print('\\t%s: %r' % (param_name, best_parameters[param_name]))\n",
    "    \n",
    "    pickle.dump(model, open(model_path, 'wb'))\n",
    "    print(f'Model {model_path} created successfully')\n",
    "    \n",
    "tfidf = model.best_estimator_.named_steps['tfidf']\n",
    "clf = model.best_estimator_.named_steps['clf']"
   ]
  },
  {
   "cell_type": "markdown",
   "metadata": {},
   "source": [
    "Résultats Gridsearch\n",
    "\n",
    "Best score: 0.885\n",
    "\n",
    "Best parameters set:<br>\n",
    "* clf__alpha: 1.0<br>\n",
    "* clf__fit_prior: False<br>\n",
    "* tfidf__max_features: None<br>\n",
    "* tfidf__min_df: 2<br>\n",
    "* tfidf__ngram_range: (1, 2)<br>\n",
    "* tfidf__norm: 'l2'<br>\n",
    "* tfidf__use_idf: True<br>\n",
    "\n",
    "(202m 15.6s)"
   ]
  },
  {
   "cell_type": "markdown",
   "metadata": {},
   "source": [
    "Making a New Prediction"
   ]
  },
  {
   "cell_type": "code",
   "execution_count": 163,
   "metadata": {},
   "outputs": [
    {
     "name": "stdout",
     "output_type": "stream",
     "text": [
      "Positive\n"
     ]
    }
   ],
   "source": [
    "#new_review = 'I Hate this movie so much. It\\'s ok.'\n",
    "new_review = 'This is the best movie I\\'ve ever seen'\n",
    "new_corpus = [cleantext(new_review)]\n",
    "\n",
    "x_pred = model.predict(new_corpus)\n",
    "print('Positive' if x_pred == '1' else 'Negative')"
   ]
  }
 ],
 "metadata": {
  "kernelspec": {
   "display_name": "Python 3.10.7 64-bit",
   "language": "python",
   "name": "python3"
  },
  "language_info": {
   "codemirror_mode": {
    "name": "ipython",
    "version": 3
   },
   "file_extension": ".py",
   "mimetype": "text/x-python",
   "name": "python",
   "nbconvert_exporter": "python",
   "pygments_lexer": "ipython3",
   "version": "3.10.7"
  },
  "orig_nbformat": 4,
  "vscode": {
   "interpreter": {
    "hash": "f470148014dc7551fd572c9334044f9c7ea7cc9582f44f15b78776449094e3e5"
   }
  }
 },
 "nbformat": 4,
 "nbformat_minor": 2
}
