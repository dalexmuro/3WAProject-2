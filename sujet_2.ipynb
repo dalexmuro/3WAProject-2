{
 "cells": [
  {
   "cell_type": "markdown",
   "metadata": {},
   "source": [
    "Récuperation et calcul des reviews et ratings.\n",
    "\n",
    "Utilise le dataset mpst_full_data.csv et crée les fichiers movies.plk, final_model.plk et sig.plk"
   ]
  },
  {
   "cell_type": "code",
   "execution_count": 1,
   "metadata": {},
   "outputs": [
    {
     "name": "stderr",
     "output_type": "stream",
     "text": [
      "[nltk_data] Downloading package stopwords to\n",
      "[nltk_data]     C:\\Users\\dalex\\AppData\\Roaming\\nltk_data...\n",
      "[nltk_data]   Package stopwords is already up-to-date!\n"
     ]
    }
   ],
   "source": [
    "import numpy as np\n",
    "import pandas as pd\n",
    "import pickle\n",
    "import requests\n",
    "import json\n",
    "\n",
    "from time import time\n",
    "from pprint import pprint\n",
    "from os.path import exists\n",
    "from get_data import getData\n",
    "from cleantext import cleantext\n",
    "from sklearn.metrics.pairwise import sigmoid_kernel\n",
    "from sklearn.feature_extraction.text import TfidfVectorizer"
   ]
  },
  {
   "cell_type": "code",
   "execution_count": 2,
   "metadata": {},
   "outputs": [],
   "source": [
    "tfIdfOverview_path = 'data/tfidf_overview_reccommendation.plk'\n",
    "tfIdfScores_path = 'data/tfidf_scores_reccommendation.plk'\n",
    "sig_path = 'data/sig_reccommendation.plk'"
   ]
  },
  {
   "cell_type": "code",
   "execution_count": 3,
   "metadata": {},
   "outputs": [
    {
     "name": "stdout",
     "output_type": "stream",
     "text": [
      "File data/full_data.plk opened successfully\n"
     ]
    }
   ],
   "source": [
    "movies_cleaned_df = getData()"
   ]
  },
  {
   "cell_type": "code",
   "execution_count": 4,
   "metadata": {},
   "outputs": [
    {
     "data": {
      "text/html": [
       "<div>\n",
       "<style scoped>\n",
       "    .dataframe tbody tr th:only-of-type {\n",
       "        vertical-align: middle;\n",
       "    }\n",
       "\n",
       "    .dataframe tbody tr th {\n",
       "        vertical-align: top;\n",
       "    }\n",
       "\n",
       "    .dataframe thead th {\n",
       "        text-align: right;\n",
       "    }\n",
       "</style>\n",
       "<table border=\"1\" class=\"dataframe\">\n",
       "  <thead>\n",
       "    <tr style=\"text-align: right;\">\n",
       "      <th></th>\n",
       "      <th>imdb_id</th>\n",
       "      <th>title</th>\n",
       "      <th>plot_synopsis</th>\n",
       "      <th>reviews</th>\n",
       "      <th>imDb_rate</th>\n",
       "      <th>metacritic_rate</th>\n",
       "      <th>theMovieDb_rate</th>\n",
       "      <th>rottenTomatoes_rate</th>\n",
       "      <th>filmAffinity_rate</th>\n",
       "      <th>reviews_avg_rate</th>\n",
       "      <th>sentiment_avg_rate</th>\n",
       "      <th>avg_rate</th>\n",
       "    </tr>\n",
       "  </thead>\n",
       "  <tbody>\n",
       "    <tr>\n",
       "      <th>0</th>\n",
       "      <td>tt0057603</td>\n",
       "      <td>I tre volti della paura</td>\n",
       "      <td>Note: this synopsis is for the orginal Italian...</td>\n",
       "      <td>[This terrifying film with plenty of vampires ...</td>\n",
       "      <td>7.0</td>\n",
       "      <td>8.2</td>\n",
       "      <td>7.2</td>\n",
       "      <td>8.8</td>\n",
       "      <td>6.5</td>\n",
       "      <td>8.5</td>\n",
       "      <td>9.2</td>\n",
       "      <td>7.91</td>\n",
       "    </tr>\n",
       "    <tr>\n",
       "      <th>1</th>\n",
       "      <td>tt1733125</td>\n",
       "      <td>Dungeons &amp; Dragons: The Book of Vile Darkness</td>\n",
       "      <td>Two thousand years ago, Nhagruul the Foul, a s...</td>\n",
       "      <td>[Alright, given the reviews and the ratings on...</td>\n",
       "      <td>4.4</td>\n",
       "      <td>0.0</td>\n",
       "      <td>4.3</td>\n",
       "      <td>0.0</td>\n",
       "      <td>3.3</td>\n",
       "      <td>7.1</td>\n",
       "      <td>2.4</td>\n",
       "      <td>4.30</td>\n",
       "    </tr>\n",
       "    <tr>\n",
       "      <th>2</th>\n",
       "      <td>tt0033045</td>\n",
       "      <td>The Shop Around the Corner</td>\n",
       "      <td>Matuschek's, a gift store in Budapest, is the ...</td>\n",
       "      <td>[The Stewart /Sullavan relationship and the wa...</td>\n",
       "      <td>8.1</td>\n",
       "      <td>9.6</td>\n",
       "      <td>8.4</td>\n",
       "      <td>10.0</td>\n",
       "      <td>8.0</td>\n",
       "      <td>9.4</td>\n",
       "      <td>10.0</td>\n",
       "      <td>9.07</td>\n",
       "    </tr>\n",
       "    <tr>\n",
       "      <th>3</th>\n",
       "      <td>tt0113862</td>\n",
       "      <td>Mr. Holland's Opus</td>\n",
       "      <td>Glenn Holland, not a morning person by anyone'...</td>\n",
       "      <td>[\"Mr. Holland's Opus\" is the story of a musici...</td>\n",
       "      <td>7.3</td>\n",
       "      <td>5.9</td>\n",
       "      <td>7.0</td>\n",
       "      <td>7.5</td>\n",
       "      <td>6.3</td>\n",
       "      <td>8.9</td>\n",
       "      <td>10.0</td>\n",
       "      <td>7.56</td>\n",
       "    </tr>\n",
       "    <tr>\n",
       "      <th>4</th>\n",
       "      <td>tt0086250</td>\n",
       "      <td>Scarface</td>\n",
       "      <td>In May 1980, a Cuban man named Tony Montana (A...</td>\n",
       "      <td>[\"Scarface\" has a major cult following even no...</td>\n",
       "      <td>8.3</td>\n",
       "      <td>6.5</td>\n",
       "      <td>8.2</td>\n",
       "      <td>8.1</td>\n",
       "      <td>8.2</td>\n",
       "      <td>8.8</td>\n",
       "      <td>9.6</td>\n",
       "      <td>8.24</td>\n",
       "    </tr>\n",
       "  </tbody>\n",
       "</table>\n",
       "</div>"
      ],
      "text/plain": [
       "     imdb_id                                          title  \\\n",
       "0  tt0057603                        I tre volti della paura   \n",
       "1  tt1733125  Dungeons & Dragons: The Book of Vile Darkness   \n",
       "2  tt0033045                     The Shop Around the Corner   \n",
       "3  tt0113862                             Mr. Holland's Opus   \n",
       "4  tt0086250                                       Scarface   \n",
       "\n",
       "                                       plot_synopsis  \\\n",
       "0  Note: this synopsis is for the orginal Italian...   \n",
       "1  Two thousand years ago, Nhagruul the Foul, a s...   \n",
       "2  Matuschek's, a gift store in Budapest, is the ...   \n",
       "3  Glenn Holland, not a morning person by anyone'...   \n",
       "4  In May 1980, a Cuban man named Tony Montana (A...   \n",
       "\n",
       "                                             reviews  imDb_rate  \\\n",
       "0  [This terrifying film with plenty of vampires ...        7.0   \n",
       "1  [Alright, given the reviews and the ratings on...        4.4   \n",
       "2  [The Stewart /Sullavan relationship and the wa...        8.1   \n",
       "3  [\"Mr. Holland's Opus\" is the story of a musici...        7.3   \n",
       "4  [\"Scarface\" has a major cult following even no...        8.3   \n",
       "\n",
       "   metacritic_rate  theMovieDb_rate  rottenTomatoes_rate  filmAffinity_rate  \\\n",
       "0              8.2              7.2                  8.8                6.5   \n",
       "1              0.0              4.3                  0.0                3.3   \n",
       "2              9.6              8.4                 10.0                8.0   \n",
       "3              5.9              7.0                  7.5                6.3   \n",
       "4              6.5              8.2                  8.1                8.2   \n",
       "\n",
       "   reviews_avg_rate  sentiment_avg_rate  avg_rate  \n",
       "0               8.5                 9.2      7.91  \n",
       "1               7.1                 2.4      4.30  \n",
       "2               9.4                10.0      9.07  \n",
       "3               8.9                10.0      7.56  \n",
       "4               8.8                 9.6      8.24  "
      ]
     },
     "execution_count": 4,
     "metadata": {},
     "output_type": "execute_result"
    }
   ],
   "source": [
    "movies_cleaned_df.head()"
   ]
  },
  {
   "cell_type": "code",
   "execution_count": 5,
   "metadata": {},
   "outputs": [
    {
     "data": {
      "text/plain": [
       "0"
      ]
     },
     "execution_count": 5,
     "metadata": {},
     "output_type": "execute_result"
    }
   ],
   "source": [
    "# Check that all the films have reviews \n",
    "len(movies_cleaned_df[movies_cleaned_df['reviews'].str.len() == 0])"
   ]
  },
  {
   "cell_type": "code",
   "execution_count": 6,
   "metadata": {},
   "outputs": [
    {
     "name": "stdout",
     "output_type": "stream",
     "text": [
      "14212\n"
     ]
    }
   ],
   "source": [
    "movies = movies_cleaned_df.rename(columns={'imdb_id': 'id', 'plot_synopsis' : 'overview', 'title' : 'original_title'})\n",
    "print(len(movies))"
   ]
  },
  {
   "cell_type": "code",
   "execution_count": 7,
   "metadata": {},
   "outputs": [
    {
     "data": {
      "text/html": [
       "<div>\n",
       "<style scoped>\n",
       "    .dataframe tbody tr th:only-of-type {\n",
       "        vertical-align: middle;\n",
       "    }\n",
       "\n",
       "    .dataframe tbody tr th {\n",
       "        vertical-align: top;\n",
       "    }\n",
       "\n",
       "    .dataframe thead th {\n",
       "        text-align: right;\n",
       "    }\n",
       "</style>\n",
       "<table border=\"1\" class=\"dataframe\">\n",
       "  <thead>\n",
       "    <tr style=\"text-align: right;\">\n",
       "      <th></th>\n",
       "      <th>id</th>\n",
       "      <th>original_title</th>\n",
       "      <th>overview</th>\n",
       "      <th>reviews</th>\n",
       "      <th>imDb_rate</th>\n",
       "      <th>metacritic_rate</th>\n",
       "      <th>theMovieDb_rate</th>\n",
       "      <th>rottenTomatoes_rate</th>\n",
       "      <th>filmAffinity_rate</th>\n",
       "      <th>reviews_avg_rate</th>\n",
       "      <th>sentiment_avg_rate</th>\n",
       "      <th>avg_rate</th>\n",
       "    </tr>\n",
       "  </thead>\n",
       "  <tbody>\n",
       "    <tr>\n",
       "      <th>0</th>\n",
       "      <td>tt0057603</td>\n",
       "      <td>I tre volti della paura</td>\n",
       "      <td>Note: this synopsis is for the orginal Italian...</td>\n",
       "      <td>[This terrifying film with plenty of vampires ...</td>\n",
       "      <td>7.0</td>\n",
       "      <td>8.2</td>\n",
       "      <td>7.2</td>\n",
       "      <td>8.8</td>\n",
       "      <td>6.5</td>\n",
       "      <td>8.5</td>\n",
       "      <td>9.2</td>\n",
       "      <td>7.91</td>\n",
       "    </tr>\n",
       "    <tr>\n",
       "      <th>1</th>\n",
       "      <td>tt1733125</td>\n",
       "      <td>Dungeons &amp; Dragons: The Book of Vile Darkness</td>\n",
       "      <td>Two thousand years ago, Nhagruul the Foul, a s...</td>\n",
       "      <td>[Alright, given the reviews and the ratings on...</td>\n",
       "      <td>4.4</td>\n",
       "      <td>0.0</td>\n",
       "      <td>4.3</td>\n",
       "      <td>0.0</td>\n",
       "      <td>3.3</td>\n",
       "      <td>7.1</td>\n",
       "      <td>2.4</td>\n",
       "      <td>4.30</td>\n",
       "    </tr>\n",
       "    <tr>\n",
       "      <th>2</th>\n",
       "      <td>tt0033045</td>\n",
       "      <td>The Shop Around the Corner</td>\n",
       "      <td>Matuschek's, a gift store in Budapest, is the ...</td>\n",
       "      <td>[The Stewart /Sullavan relationship and the wa...</td>\n",
       "      <td>8.1</td>\n",
       "      <td>9.6</td>\n",
       "      <td>8.4</td>\n",
       "      <td>10.0</td>\n",
       "      <td>8.0</td>\n",
       "      <td>9.4</td>\n",
       "      <td>10.0</td>\n",
       "      <td>9.07</td>\n",
       "    </tr>\n",
       "    <tr>\n",
       "      <th>3</th>\n",
       "      <td>tt0113862</td>\n",
       "      <td>Mr. Holland's Opus</td>\n",
       "      <td>Glenn Holland, not a morning person by anyone'...</td>\n",
       "      <td>[\"Mr. Holland's Opus\" is the story of a musici...</td>\n",
       "      <td>7.3</td>\n",
       "      <td>5.9</td>\n",
       "      <td>7.0</td>\n",
       "      <td>7.5</td>\n",
       "      <td>6.3</td>\n",
       "      <td>8.9</td>\n",
       "      <td>10.0</td>\n",
       "      <td>7.56</td>\n",
       "    </tr>\n",
       "    <tr>\n",
       "      <th>4</th>\n",
       "      <td>tt0086250</td>\n",
       "      <td>Scarface</td>\n",
       "      <td>In May 1980, a Cuban man named Tony Montana (A...</td>\n",
       "      <td>[\"Scarface\" has a major cult following even no...</td>\n",
       "      <td>8.3</td>\n",
       "      <td>6.5</td>\n",
       "      <td>8.2</td>\n",
       "      <td>8.1</td>\n",
       "      <td>8.2</td>\n",
       "      <td>8.8</td>\n",
       "      <td>9.6</td>\n",
       "      <td>8.24</td>\n",
       "    </tr>\n",
       "  </tbody>\n",
       "</table>\n",
       "</div>"
      ],
      "text/plain": [
       "          id                                 original_title  \\\n",
       "0  tt0057603                        I tre volti della paura   \n",
       "1  tt1733125  Dungeons & Dragons: The Book of Vile Darkness   \n",
       "2  tt0033045                     The Shop Around the Corner   \n",
       "3  tt0113862                             Mr. Holland's Opus   \n",
       "4  tt0086250                                       Scarface   \n",
       "\n",
       "                                            overview  \\\n",
       "0  Note: this synopsis is for the orginal Italian...   \n",
       "1  Two thousand years ago, Nhagruul the Foul, a s...   \n",
       "2  Matuschek's, a gift store in Budapest, is the ...   \n",
       "3  Glenn Holland, not a morning person by anyone'...   \n",
       "4  In May 1980, a Cuban man named Tony Montana (A...   \n",
       "\n",
       "                                             reviews  imDb_rate  \\\n",
       "0  [This terrifying film with plenty of vampires ...        7.0   \n",
       "1  [Alright, given the reviews and the ratings on...        4.4   \n",
       "2  [The Stewart /Sullavan relationship and the wa...        8.1   \n",
       "3  [\"Mr. Holland's Opus\" is the story of a musici...        7.3   \n",
       "4  [\"Scarface\" has a major cult following even no...        8.3   \n",
       "\n",
       "   metacritic_rate  theMovieDb_rate  rottenTomatoes_rate  filmAffinity_rate  \\\n",
       "0              8.2              7.2                  8.8                6.5   \n",
       "1              0.0              4.3                  0.0                3.3   \n",
       "2              9.6              8.4                 10.0                8.0   \n",
       "3              5.9              7.0                  7.5                6.3   \n",
       "4              6.5              8.2                  8.1                8.2   \n",
       "\n",
       "   reviews_avg_rate  sentiment_avg_rate  avg_rate  \n",
       "0               8.5                 9.2      7.91  \n",
       "1               7.1                 2.4      4.30  \n",
       "2               9.4                10.0      9.07  \n",
       "3               8.9                10.0      7.56  \n",
       "4               8.8                 9.6      8.24  "
      ]
     },
     "execution_count": 7,
     "metadata": {},
     "output_type": "execute_result"
    }
   ],
   "source": [
    "movies.head()"
   ]
  },
  {
   "cell_type": "code",
   "execution_count": 8,
   "metadata": {},
   "outputs": [
    {
     "name": "stdout",
     "output_type": "stream",
     "text": [
      "There are 420958 different words along all the overviews.\n"
     ]
    }
   ],
   "source": [
    "# Create a set of unique word along all the 50k reviews\n",
    "unique_words = set([])\n",
    "\n",
    "for overview in movies['overview']:\n",
    "    split = overview.split()\n",
    "    for word in split:\n",
    "        unique_words.add(word)\n",
    "\n",
    "print('There are %s different words along all the overviews.' %len(unique_words))"
   ]
  },
  {
   "cell_type": "code",
   "execution_count": 31,
   "metadata": {},
   "outputs": [],
   "source": [
    "overviews = movies['overview'].astype('str')\n",
    "rates = movies['avg_rate'].astype('str')"
   ]
  },
  {
   "cell_type": "code",
   "execution_count": 32,
   "metadata": {},
   "outputs": [
    {
     "name": "stdout",
     "output_type": "stream",
     "text": [
      "14212\n",
      "14212\n"
     ]
    }
   ],
   "source": [
    "print(len(overviews))\n",
    "print(len(rates))"
   ]
  },
  {
   "cell_type": "code",
   "execution_count": 47,
   "metadata": {},
   "outputs": [
    {
     "name": "stdout",
     "output_type": "stream",
     "text": [
      "File data/tfidf_overview_reccommendation.plk created successfully\n",
      "File data/tfidf_scores_reccommendation.plk created successfully\n"
     ]
    }
   ],
   "source": [
    "if exists(tfIdfOverview_path) and exists(tfIdfScores_path) :\n",
    "    tfv_matrix = pickle.load(open(tfIdfOverview_path, 'rb'))\n",
    "    print(f'File {tfIdfOverview_path} opened successfully')\n",
    "    tfv_rate = pickle.load(open(tfIdfScores_path, 'rb'))\n",
    "    print(f'File {tfIdfScores_path} opened successfully')\n",
    "    \n",
    "else :\n",
    "    tfv = TfidfVectorizer(\n",
    "        min_df=3,\n",
    "        max_features=None,\n",
    "        analyzer='word',\n",
    "        token_pattern='\\w{1}',\n",
    "        ngram_range=(1, 3),\n",
    "    )\n",
    "\n",
    "    tfv_matrix = tfv.fit_transform(overviews)\n",
    "    tfv_rate = tfv.transform(rates)\n",
    "\n",
    "\n",
    "    pickle.dump(tfv_matrix, open(tfIdfOverview_path, 'wb'))\n",
    "    print(f'File {tfIdfOverview_path} created successfully')\n",
    "    pickle.dump(tfv_rate, open(tfIdfScores_path, 'wb'))\n",
    "    print(f'File {tfIdfScores_path} created successfully')"
   ]
  },
  {
   "cell_type": "code",
   "execution_count": 50,
   "metadata": {},
   "outputs": [
    {
     "name": "stdout",
     "output_type": "stream",
     "text": [
      "(14212, 21874)\n",
      "(14212, 21874)\n"
     ]
    }
   ],
   "source": [
    "print(tfv_matrix.shape)\n",
    "print(tfv_rate.shape)"
   ]
  },
  {
   "cell_type": "code",
   "execution_count": 51,
   "metadata": {},
   "outputs": [
    {
     "name": "stdout",
     "output_type": "stream",
     "text": [
      "File data/sig_reccommendation.plk created successfully\n"
     ]
    }
   ],
   "source": [
    "if exists(sig_path) :\n",
    "    sig = pickle.load(open(sig_path, 'rb'))\n",
    "    print(f'File {sig_path} opened successfully')\n",
    "\n",
    "else :\n",
    "    sig = sigmoid_kernel(tfv_matrix, tfv_rate)\n",
    "    pickle.dump(sig, open(sig_path, 'wb'))\n",
    "    print(f'File {sig_path} created successfully')"
   ]
  },
  {
   "cell_type": "code",
   "execution_count": 52,
   "metadata": {},
   "outputs": [],
   "source": [
    "indices = pd.Series(movies.index, index=movies['original_title']).drop_duplicates()"
   ]
  },
  {
   "cell_type": "code",
   "execution_count": 67,
   "metadata": {},
   "outputs": [],
   "source": [
    "def give_rec(title, sig=sig):\n",
    "    idx = indices[title]\n",
    "    sig_scores = list(enumerate(sig[idx]))\n",
    "    sig_scores = sorted(sig_scores, key=lambda x: x[1], reverse=True)\n",
    "    sig_scores = sig_scores[1:11]\n",
    "    movie_indices = [i[0] for i in sig_scores]\n",
    "    \n",
    "    result = pd.concat([\n",
    "        movies['original_title'].iloc[movie_indices],\n",
    "        movies['avg_rate'].iloc[movie_indices]], axis=1)\n",
    "    result = result.rename(columns={'original_title': 'Title', 'avg_rate': 'Rating'})\n",
    "    result = result.set_index(['Title', 'Rating'])\n",
    "    result = result.sort_values(by=['Rating'], ascending=False)\n",
    "    return result"
   ]
  },
  {
   "cell_type": "code",
   "execution_count": 68,
   "metadata": {},
   "outputs": [
    {
     "data": {
      "text/html": [
       "<div>\n",
       "<style scoped>\n",
       "    .dataframe tbody tr th:only-of-type {\n",
       "        vertical-align: middle;\n",
       "    }\n",
       "\n",
       "    .dataframe tbody tr th {\n",
       "        vertical-align: top;\n",
       "    }\n",
       "\n",
       "    .dataframe thead th {\n",
       "        text-align: right;\n",
       "    }\n",
       "</style>\n",
       "<table border=\"1\" class=\"dataframe\">\n",
       "  <thead>\n",
       "    <tr style=\"text-align: right;\">\n",
       "      <th></th>\n",
       "      <th></th>\n",
       "    </tr>\n",
       "    <tr>\n",
       "      <th>Title</th>\n",
       "      <th>Rating</th>\n",
       "    </tr>\n",
       "  </thead>\n",
       "  <tbody>\n",
       "    <tr>\n",
       "      <th>Combat Shock</th>\n",
       "      <th>6.00</th>\n",
       "    </tr>\n",
       "    <tr>\n",
       "      <th>The Exorcism of Emily Rose</th>\n",
       "      <th>6.00</th>\n",
       "    </tr>\n",
       "    <tr>\n",
       "      <th>Psycho III</th>\n",
       "      <th>6.00</th>\n",
       "    </tr>\n",
       "    <tr>\n",
       "      <th>Brooklyn's Finest</th>\n",
       "      <th>6.00</th>\n",
       "    </tr>\n",
       "    <tr>\n",
       "      <th>Stand Up Guys</th>\n",
       "      <th>6.00</th>\n",
       "    </tr>\n",
       "    <tr>\n",
       "      <th>Way of the Vampire</th>\n",
       "      <th>1.98</th>\n",
       "    </tr>\n",
       "    <tr>\n",
       "      <th>Zaat</th>\n",
       "      <th>1.98</th>\n",
       "    </tr>\n",
       "    <tr>\n",
       "      <th>Meet the Spartans</th>\n",
       "      <th>1.97</th>\n",
       "    </tr>\n",
       "    <tr>\n",
       "      <th>The Garbage Pail Kids Movie</th>\n",
       "      <th>1.97</th>\n",
       "    </tr>\n",
       "    <tr>\n",
       "      <th>2010: Moby Dick</th>\n",
       "      <th>1.96</th>\n",
       "    </tr>\n",
       "  </tbody>\n",
       "</table>\n",
       "</div>"
      ],
      "text/plain": [
       "Empty DataFrame\n",
       "Columns: []\n",
       "Index: [(Combat Shock, 6.0), (The Exorcism of Emily Rose, 6.0), (Psycho III, 6.0), (Brooklyn's Finest, 6.0), (Stand Up Guys, 6.0), (Way of the Vampire, 1.98), (Zaat, 1.98), (Meet the Spartans, 1.97), (The Garbage Pail Kids Movie, 1.97), (2010: Moby Dick, 1.96)]"
      ]
     },
     "execution_count": 68,
     "metadata": {},
     "output_type": "execute_result"
    }
   ],
   "source": [
    "give_rec(\"Mr. Holland's Opus\")"
   ]
  }
 ],
 "metadata": {
  "kernelspec": {
   "display_name": "Python 3.10.7 64-bit",
   "language": "python",
   "name": "python3"
  },
  "language_info": {
   "codemirror_mode": {
    "name": "ipython",
    "version": 3
   },
   "file_extension": ".py",
   "mimetype": "text/x-python",
   "name": "python",
   "nbconvert_exporter": "python",
   "pygments_lexer": "ipython3",
   "version": "3.10.7"
  },
  "orig_nbformat": 4,
  "vscode": {
   "interpreter": {
    "hash": "f470148014dc7551fd572c9334044f9c7ea7cc9582f44f15b78776449094e3e5"
   }
  }
 },
 "nbformat": 4,
 "nbformat_minor": 2
}
